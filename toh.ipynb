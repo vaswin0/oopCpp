{
 "cells": [
  {
   "cell_type": "code",
   "execution_count": 1,
   "id": "11c31433-4f66-467e-9799-223675a8a896",
   "metadata": {
    "tags": []
   },
   "outputs": [],
   "source": [
    "class cube:\n",
    "    def __init__(self, length):\n",
    "        self.__length =  length\n",
    "        \n",
    "  \n",
    "        \n",
    "    def  getLength(self):\n",
    "        return self.__length"
   ]
  },
  {
   "cell_type": "code",
   "execution_count": 2,
   "id": "cc06c42d-1e39-4659-8bf9-958c6d2af7d3",
   "metadata": {
    "tags": []
   },
   "outputs": [],
   "source": [
    "class stack:\n",
    "    def __init__(self):\n",
    "        self.__cubes = []\n",
    "        \n",
    "    def __str__(self):\n",
    "        cubes = [ cube.getLength() for cube in self.__cubes]\n",
    "        \n",
    "        return f\" {cubes}\"\n",
    "        \n",
    "    def peektop(self):\n",
    "        return self.__cubes[len(self.__cubes) - 1]\n",
    "    def pushback(self, c):\n",
    "        self.__cubes.append(c)\n",
    "    def removetop(self):\n",
    "        cube =  self.peektop()\n",
    "        self.__cubes.remove(cube)\n",
    "        \n",
    "        return cube\n",
    "    def size(self):\n",
    "        return len(self.__cubes)\n",
    "        "
   ]
  },
  {
   "cell_type": "code",
   "execution_count": 3,
   "id": "f1a0c14b-1f80-4a26-bc6e-542833c77be6",
   "metadata": {},
   "outputs": [],
   "source": [
    "class game:\n",
    "    \n",
    "    def __init__(self):\n",
    "        \n",
    "        self.__stacks = []\n",
    "        \n",
    "        \n",
    "        for i in range(0,3):\n",
    "            stackofcubes =  stack()\n",
    "            self. __stacks.append(stackofcubes)\n",
    "            \n",
    "        for i in range(1,5):\n",
    "            a = cube(5 - i)\n",
    "            self.__stacks[0].pushback(a)\n",
    "            \n",
    "    def getStacks(self):\n",
    "        return self.__stacks\n",
    "    \n",
    "    def __str__(self):\n",
    "        return f\" {self.__stacks[0]} \\n {self.__stacks[1]} \\n {self.__stacks[1]}\"\n",
    "         \n",
    "     def __moveCube( stck1, stck2):\n",
    "        cube = stck1.removetop()\n",
    "        s2.pushba\n",
    "        \n",
    "            \n",
    "    "
   ]
  },
  {
   "cell_type": "code",
   "execution_count": 9,
   "id": "9056e275-8296-48f1-9f91-4f301ab7be03",
   "metadata": {
    "tags": []
   },
   "outputs": [
    {
     "name": "stdout",
     "output_type": "stream",
     "text": [
      "  [4, 3, 2, 1] \n",
      "  [] \n",
      "  []\n"
     ]
    }
   ],
   "source": [
    "g = game()\n",
    "print(g)\n"
   ]
  },
  {
   "cell_type": "code",
   "execution_count": 10,
   "id": "f9ed00bf-c6f8-4f61-be89-8db70c8c6517",
   "metadata": {
    "tags": []
   },
   "outputs": [
    {
     "name": "stdout",
     "output_type": "stream",
     "text": [
      "  [4, 3, 2] \n",
      "  [] \n",
      "  []\n"
     ]
    }
   ],
   "source": [
    "g.getStacks()[0].removetop()\n",
    "print(g)"
   ]
  },
  {
   "cell_type": "code",
   "execution_count": null,
   "id": "41039881-b5c5-473d-b000-0c3453963a1b",
   "metadata": {},
   "outputs": [],
   "source": []
  }
 ],
 "metadata": {
  "kernelspec": {
   "display_name": "Python 3 (ipykernel)",
   "language": "python",
   "name": "python3"
  },
  "language_info": {
   "codemirror_mode": {
    "name": "ipython",
    "version": 3
   },
   "file_extension": ".py",
   "mimetype": "text/x-python",
   "name": "python",
   "nbconvert_exporter": "python",
   "pygments_lexer": "ipython3",
   "version": "3.10.6"
  }
 },
 "nbformat": 4,
 "nbformat_minor": 5
}
